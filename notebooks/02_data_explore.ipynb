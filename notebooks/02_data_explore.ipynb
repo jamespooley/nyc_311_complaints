{
 "cells": [
  {
   "cell_type": "code",
   "execution_count": null,
   "metadata": {},
   "outputs": [],
   "source": [
    "import numpy as np\n",
    "import pandas as pd\n",
    "\n",
    "complaints = pd.read_csv('data/cleaned/nyc-311-complaints.csv')\n",
    "nyc_population = pd.read_csv('../data/cleaned/population-by-zip-nyc-2010.csv')"
   ]
  },
  {
   "cell_type": "markdown",
   "metadata": {},
   "source": [
    "## What are the 10 most common complaint types in NYC in 2017?"
   ]
  },
  {
   "cell_type": "code",
   "execution_count": null,
   "metadata": {},
   "outputs": [],
   "source": [
    "most_common = (\n",
    "    complaints.groupby('complaint_type')\n",
    "              .apply(lambda x: len(x))\n",
    "              .nlargest(n=10)\n",
    "              .to_frame(name='n_complaints')\n",
    "              .reset_index()\n",
    ")\n",
    "most_common"
   ]
  },
  {
   "cell_type": "markdown",
   "metadata": {},
   "source": [
    "## For each borough, how many of each of those 10 types were there in 2017?"
   ]
  },
  {
   "cell_type": "code",
   "execution_count": null,
   "metadata": {},
   "outputs": [],
   "source": [
    "by_borough = (\n",
    "    complaints.groupby(['borough', 'complaint_type'])\n",
    "              .size()\n",
    "              .rename('n_complaints')\n",
    "              .reset_index()\n",
    ")\n",
    "\n",
    "filt = by_borough['complaint_type'].isin(most_common['complaint_type'])\n",
    "by_borough.loc[filt, :]"
   ]
  },
  {
   "cell_type": "markdown",
   "metadata": {},
   "source": [
    "## Considering all complaint types, calculate the complaints per person that gives an indication of which boroughs make the most complaints (i.e., the \"biggest complainers\")."
   ]
  },
  {
   "cell_type": "code",
   "execution_count": null,
   "metadata": {},
   "outputs": [],
   "source": [
    "import pandas as pd\n",
    "nyc_population = pd.read_csv('../data/cleaned/population-by-zip-nyc-2010.csv')\n",
    "\n",
    "population_by_borough = (\n",
    "    nyc_population.groupby('borough', as_index=False)\n",
    "                  .population\n",
    "                  .sum()\n",
    ")\n",
    "population_by_borough"
   ]
  },
  {
   "cell_type": "code",
   "execution_count": null,
   "metadata": {},
   "outputs": [],
   "source": [
    "complaints_per_borough = (\n",
    "    complaints.groupby('borough')\n",
    "              .apply(lambda x: len(x))\n",
    "              .to_frame('n_complaints')\n",
    "              .reset_index()\n",
    "              .merge(borough_population, on='borough')\n",
    "              .assign(complaints_per_person=lambda x: x.n_complaints / x.population)\n",
    "              .reset_index()\n",
    ")\n",
    "complaints_per_borough"
   ]
  }
 ],
 "metadata": {
  "kernelspec": {
   "display_name": "Python 3",
   "language": "python",
   "name": "python3"
  },
  "language_info": {
   "codemirror_mode": {
    "name": "ipython",
    "version": 3
   },
   "file_extension": ".py",
   "mimetype": "text/x-python",
   "name": "python",
   "nbconvert_exporter": "python",
   "pygments_lexer": "ipython3",
   "version": "3.6.7"
  }
 },
 "nbformat": 4,
 "nbformat_minor": 2
}
