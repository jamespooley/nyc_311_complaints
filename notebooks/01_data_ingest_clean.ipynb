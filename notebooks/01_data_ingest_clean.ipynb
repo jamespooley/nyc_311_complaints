{
 "cells": [
  {
   "cell_type": "markdown",
   "metadata": {},
   "source": [
    "# NYC 311 Complaints 2017 Data Wrangling"
   ]
  },
  {
   "cell_type": "code",
   "execution_count": 1,
   "metadata": {},
   "outputs": [],
   "source": [
    "import os\n",
    "from os.path import join as opj\n",
    "import requests\n",
    "from bs4 import BeautifulSoup\n",
    "from requests import HTTPError, ConnectionError\n",
    "import numpy as np\n",
    "import pandas as pd\n",
    "from sodapy import Socrata"
   ]
  },
  {
   "cell_type": "markdown",
   "metadata": {},
   "source": [
    "### Data Sources"
   ]
  },
  {
   "cell_type": "code",
   "execution_count": 2,
   "metadata": {},
   "outputs": [],
   "source": [
    "POPULATION_DATASET_URL = ('https://s3.amazonaws.com/SplitwiseBlogJB/'\n",
    "                          '2010+Census+Population+By+Zipcode+(ZCTA).csv')\n",
    "\n",
    "NYC_ZIPCODES_DATASET_URL = ('https://www.health.ny.gov/statistics/cancer/'\n",
    "                            'registry/appendix/neighborhoods.htm')\n",
    "\n",
    "COMPLAINTS_DATASET_URL = ('https://data.cityofnewyork.us/resource/fhrw-4uyv.csv?'\n",
    "                          '$where=date_extract_y(created_date)=2017&$limit={n_records}')"
   ]
  },
  {
   "cell_type": "markdown",
   "metadata": {},
   "source": [
    "First, how many records were there in 2017?"
   ]
  },
  {
   "cell_type": "code",
   "execution_count": 3,
   "metadata": {},
   "outputs": [
    {
     "name": "stderr",
     "output_type": "stream",
     "text": [
      "WARNING:root:Requests made without an app_token will be subject to strict throttling limits.\n"
     ]
    },
    {
     "name": "stdout",
     "output_type": "stream",
     "text": [
      "2461204\n"
     ]
    }
   ],
   "source": [
    "def get_n_records(year=2017):\n",
    "    with Socrata('data.cityofnewyork.us', None) as client:\n",
    "        query = \"\"\"\n",
    "        select count(unique_key)\n",
    "        where date_extract_y(created_date) = 2017\n",
    "        \"\"\"\n",
    "        \n",
    "        n_records = int(client.get('fhrw-4uyv' , query=query)[0]['count_unique_key'])\n",
    "        \n",
    "    return n_records\n",
    "\n",
    "n_records = get_n_records()\n",
    "print(n_records)"
   ]
  },
  {
   "cell_type": "code",
   "execution_count": 10,
   "metadata": {},
   "outputs": [
    {
     "name": "stdout",
     "output_type": "stream",
     "text": [
      "CPU times: user 20.9 s, sys: 8.42 s, total: 29.3 s\n",
      "Wall time: 2min 23s\n"
     ]
    }
   ],
   "source": [
    "%%time\n",
    "response = requests.get(COMPLAINTS_DATASET_URL.format(n_records=n_records), stream=True)\n",
    "\n",
    "with open('../data/raw/nyc-311-complaints-2017.csv', 'wb') as fout:\n",
    "    for chunk in response.iter_content(32 * 1024):\n",
    "        fout.write(chunk)"
   ]
  },
  {
   "cell_type": "markdown",
   "metadata": {},
   "source": [
    "Let's make sure that we retrieved all the records we expected to retrieve."
   ]
  },
  {
   "cell_type": "code",
   "execution_count": 11,
   "metadata": {},
   "outputs": [
    {
     "name": "stdout",
     "output_type": "stream",
     "text": [
      "2461205 ../data/raw/nyc-311-complaints-2017.csv\r\n"
     ]
    }
   ],
   "source": [
    "!wc -l ../data/raw/nyc-311-complaints-2017.csv"
   ]
  },
  {
   "cell_type": "markdown",
   "metadata": {},
   "source": [
    "Excellent! Looks like we're good to go (the \"extra\" row being the header, of course), since that matches the expected number of complaints recorded in 2017."
   ]
  },
  {
   "cell_type": "code",
   "execution_count": 12,
   "metadata": {},
   "outputs": [
    {
     "name": "stdout",
     "output_type": "stream",
     "text": [
      "\"address_type\",\"agency\",\"agency_name\",\"bbl\",\"borough\",\"bridge_highway_direction\",\"bridge_highway_name\",\"bridge_highway_segment\",\"city\",\"closed_date\",\"community_board\",\"complaint_type\",\"created_date\",\"cross_street_1\",\"cross_street_2\",\"descriptor\",\"due_date\",\"facility_type\",\"incident_address\",\"incident_zip\",\"intersection_street_1\",\"intersection_street_2\",\"landmark\",\"latitude\",\"location\",\"location_address\",\"location_city\",\"location_state\",\"location_type\",\"location_zip\",\"longitude\",\"open_data_channel_type\",\"park_borough\",\"park_facility_name\",\"resolution_action_updated_date\",\"resolution_description\",\"road_ramp\",\"status\",\"street_name\",\"taxi_company_borough\",\"taxi_pick_up_location\",\"unique_key\",\"vehicle_type\",\"x_coordinate_state_plane\",\"y_coordinate_state_plane\"\r\n"
     ]
    }
   ],
   "source": [
    "!head -n 1 ../data/raw/nyc-311-complaints-2017.csv"
   ]
  },
  {
   "cell_type": "markdown",
   "metadata": {},
   "source": [
    "### 311 Data Utility Functions"
   ]
  },
  {
   "cell_type": "code",
   "execution_count": 12,
   "metadata": {},
   "outputs": [],
   "source": [
    "def get_population_by_zip(url):\n",
    "    \"\"\" Retrieves 2010 Census population by ZIP code data \"\"\"\n",
    "    try:\n",
    "        population_by_zip = pd.read_csv(url)\n",
    "        return population_by_zip\n",
    "    except HTTPError as e:\n",
    "        print(e)\n",
    "        \n",
    "def scrape_nyc_zips(url):\n",
    "    \"\"\" Scrapes table of NYC zipcodes from New York State Department\n",
    "    of Health website \"\"\"\n",
    "    try:\n",
    "        r = requests.get(url)\n",
    "        return r\n",
    "    except HTTPError as e:\n",
    "        print(\"NYC neighborhood ZIP code lookup table not found:\", e)\n",
    "\n",
    "\n",
    "# TODO: Refactor to have utility functions for, for example, the\n",
    "# \"tidying\" aspects and the conversion aspects ... and rename this\n",
    "# function to something more sensible\n",
    "def tidy_nyc_zips(html):\n",
    "    \"\"\" Wrangle HTML table of NYC ZIP codes into a \"tidy\" data frame\n",
    "\n",
    "    Args:\n",
    "        html (requests.models.Response):\n",
    "\n",
    "    Returns:\n",
    "        pandas.DataFrame:\n",
    "    \"\"\"\n",
    "\n",
    "    # TODO: This seems too ugly and hacky so find a more elegant\n",
    "    # solution\n",
    "    borough_zips = (\n",
    "        pd.read_html(html.content, header=0)[0]\n",
    "          .reset_index()\n",
    "    )\n",
    "\n",
    "    borough_zips.loc[borough_zips['ZIP Codes'].isnull(), 'Borough'] = np.nan\n",
    "    borough_zips.loc[:, 'ZIP Codes'] = \\\n",
    "        borough_zips.loc[:, 'ZIP Codes'].str.replace(' ', '')\n",
    "\n",
    "    borough_zips.loc[:, 'ZIP Codes'] = (\n",
    "        borough_zips.loc[:, 'ZIP Codes']\n",
    "                    .combine_first(borough_zips['Neighborhood'])\n",
    "    )\n",
    "\n",
    "    # TODO: keep the neighborhood information, even though it's not\n",
    "    # currently necessary for this analysis\n",
    "    borough_zips.drop('Neighborhood', axis=1, inplace=True)\n",
    "    borough_zips.loc[:, 'Borough'] = \\\n",
    "        borough_zips.loc[:, 'Borough'].ffill()\n",
    "\n",
    "    # Overwrite the comma-separated string \"list\" in the cell\n",
    "    # with an actual list of integers\n",
    "    borough_zips.loc[:, 'ZIP Codes'] = (\n",
    "        borough_zips.loc[:, 'ZIP Codes']\n",
    "                    .apply(lambda x: x.split(','))\n",
    "    )\n",
    "\n",
    "    # TODO: Write utility function for this pattern\n",
    "    borough_zips = (\n",
    "        borough_zips.set_index(['index', 'Borough'])\n",
    "                    .loc[:, 'ZIP Codes']\n",
    "                    .apply(pd.Series) # Expand the list of \n",
    "                    .stack()\n",
    "                    .reset_index()\n",
    "    )\n",
    "\n",
    "    borough_zips.drop(['index', 'level_2'], axis=1, inplace=True)\n",
    "    borough_zips.columns = \\\n",
    "        'borough zip_code'.split(' ')\n",
    "    borough_zips.loc[:, 'zip_code'] = \\\n",
    "        borough_zips.loc[:, 'zip_code'].astype(int)\n",
    "\n",
    "    return borough_zips"
   ]
  },
  {
   "cell_type": "markdown",
   "metadata": {},
   "source": [
    "## Data Wrangling\n",
    "\n",
    "### NYC 311 Complaints 2017"
   ]
  },
  {
   "cell_type": "code",
   "execution_count": 3,
   "metadata": {},
   "outputs": [],
   "source": [
    "def clean_frame(complaints):\n",
    "    \n",
    "    complaints.loc[:, 'unique_key'] = \\\n",
    "    complaints.loc[:, 'unique_key'].astype(int)\n",
    "\n",
    "    complaints.loc[:, 'borough'] = (\n",
    "        complaints.loc[:, 'borough']\n",
    "                  .str.title()\n",
    "                  .astype('category')\n",
    "    )\n",
    "\n",
    "    complaints.loc[:, 'city'] = (\n",
    "        complaints.loc[:, 'city']\n",
    "                  .str.title()\n",
    "                  .astype('category')\n",
    "    )\n",
    "\n",
    "    complaints.loc[:, 'complaint_type'] = \\\n",
    "        complaints.loc[:, 'complaint_type'].astype('category')\n",
    "\n",
    "    complaints.loc[:, 'incident_zip'] = \\\n",
    "        complaints.loc[:, 'incident_zip'].apply(pd.to_numeric, errors='coerce')\n",
    "\n",
    "    complaints.loc[:, 'created_date'] = \\\n",
    "        complaints.loc[:, 'created_date'].apply(pd.to_datetime)\n",
    "    \n",
    "    complaints = complaints.replace('Unspecified', np.nan)\n",
    "\n",
    "    is_borough = complaints['city'].isin(['Bronx', 'Brooklyn', 'Manhattan',\n",
    "                                      'Queens', 'Staten Island'])\n",
    "    complaints.loc[~is_borough, 'city'] = np.nan\n",
    "\n",
    "    complaints.loc[:, 'borough'] = (\n",
    "        complaints.loc[:, 'borough']\n",
    "                  .combine_first(complaints['city'])\n",
    "    )\n",
    "\n",
    "    complaints.drop('city', axis=1, inplace=True)\n",
    "    \n",
    "    return complaints"
   ]
  },
  {
   "cell_type": "code",
   "execution_count": 8,
   "metadata": {},
   "outputs": [
    {
     "name": "stdout",
     "output_type": "stream",
     "text": [
      "CPU times: user 2min 54s, sys: 1.6 s, total: 2min 56s\n",
      "Wall time: 2min 59s\n"
     ]
    }
   ],
   "source": [
    "%%time\n",
    "\n",
    "keep = ['unique_key', 'created_date', 'borough', 'city', 'incident_zip', \n",
    "        'latitude', 'longitude', 'complaint_type', 'descriptor']\n",
    "\n",
    "chunksize = 10 ** 5\n",
    "dfs = {}\n",
    "for idx, df in enumerate(pd.read_csv('nyc-311-complaints-2017.csv',\n",
    "                                     usecols=keep,\n",
    "                                     chunksize=chunksize,\n",
    "                                     low_memory=False)):\n",
    "    dfs[idx] = clean_frame(df)"
   ]
  },
  {
   "cell_type": "code",
   "execution_count": 9,
   "metadata": {},
   "outputs": [],
   "source": [
    "complaints = pd.concat(dfs.values(), ignore_index=True)"
   ]
  },
  {
   "cell_type": "code",
   "execution_count": 10,
   "metadata": {},
   "outputs": [
    {
     "data": {
      "text/html": [
       "<div>\n",
       "<style scoped>\n",
       "    .dataframe tbody tr th:only-of-type {\n",
       "        vertical-align: middle;\n",
       "    }\n",
       "\n",
       "    .dataframe tbody tr th {\n",
       "        vertical-align: top;\n",
       "    }\n",
       "\n",
       "    .dataframe thead th {\n",
       "        text-align: right;\n",
       "    }\n",
       "</style>\n",
       "<table border=\"1\" class=\"dataframe\">\n",
       "  <thead>\n",
       "    <tr style=\"text-align: right;\">\n",
       "      <th></th>\n",
       "      <th>borough</th>\n",
       "      <th>complaint_type</th>\n",
       "      <th>created_date</th>\n",
       "      <th>descriptor</th>\n",
       "      <th>incident_zip</th>\n",
       "      <th>latitude</th>\n",
       "      <th>longitude</th>\n",
       "      <th>unique_key</th>\n",
       "    </tr>\n",
       "  </thead>\n",
       "  <tbody>\n",
       "    <tr>\n",
       "      <th>0</th>\n",
       "      <td>Brooklyn</td>\n",
       "      <td>Derelict Vehicles</td>\n",
       "      <td>2017-10-16 19:55:00</td>\n",
       "      <td>14 Derelict Vehicles</td>\n",
       "      <td>11207.0</td>\n",
       "      <td>40.680113</td>\n",
       "      <td>-73.895978</td>\n",
       "      <td>37454596</td>\n",
       "    </tr>\n",
       "    <tr>\n",
       "      <th>1</th>\n",
       "      <td>Brooklyn</td>\n",
       "      <td>Sanitation Condition</td>\n",
       "      <td>2017-10-16 13:45:00</td>\n",
       "      <td>15 Street Cond/Dump-Out/Drop-Off</td>\n",
       "      <td>11215.0</td>\n",
       "      <td>40.666845</td>\n",
       "      <td>-73.994860</td>\n",
       "      <td>37454599</td>\n",
       "    </tr>\n",
       "    <tr>\n",
       "      <th>2</th>\n",
       "      <td>Queens</td>\n",
       "      <td>Dirty Conditions</td>\n",
       "      <td>2017-10-17 08:56:00</td>\n",
       "      <td>E8 Canine Violation</td>\n",
       "      <td>11435.0</td>\n",
       "      <td>40.709375</td>\n",
       "      <td>-73.810137</td>\n",
       "      <td>37454610</td>\n",
       "    </tr>\n",
       "    <tr>\n",
       "      <th>3</th>\n",
       "      <td>Brooklyn</td>\n",
       "      <td>Derelict Vehicles</td>\n",
       "      <td>2017-10-17 12:46:00</td>\n",
       "      <td>14 Derelict Vehicles</td>\n",
       "      <td>11238.0</td>\n",
       "      <td>40.676181</td>\n",
       "      <td>-73.966295</td>\n",
       "      <td>37454614</td>\n",
       "    </tr>\n",
       "    <tr>\n",
       "      <th>4</th>\n",
       "      <td>Queens</td>\n",
       "      <td>Derelict Vehicles</td>\n",
       "      <td>2017-10-17 12:28:00</td>\n",
       "      <td>14 Derelict Vehicles</td>\n",
       "      <td>11434.0</td>\n",
       "      <td>40.679438</td>\n",
       "      <td>-73.771198</td>\n",
       "      <td>37454620</td>\n",
       "    </tr>\n",
       "  </tbody>\n",
       "</table>\n",
       "</div>"
      ],
      "text/plain": [
       "    borough        complaint_type        created_date  \\\n",
       "0  Brooklyn     Derelict Vehicles 2017-10-16 19:55:00   \n",
       "1  Brooklyn  Sanitation Condition 2017-10-16 13:45:00   \n",
       "2    Queens      Dirty Conditions 2017-10-17 08:56:00   \n",
       "3  Brooklyn     Derelict Vehicles 2017-10-17 12:46:00   \n",
       "4    Queens     Derelict Vehicles 2017-10-17 12:28:00   \n",
       "\n",
       "                         descriptor  incident_zip   latitude  longitude  \\\n",
       "0              14 Derelict Vehicles       11207.0  40.680113 -73.895978   \n",
       "1  15 Street Cond/Dump-Out/Drop-Off       11215.0  40.666845 -73.994860   \n",
       "2               E8 Canine Violation       11435.0  40.709375 -73.810137   \n",
       "3              14 Derelict Vehicles       11238.0  40.676181 -73.966295   \n",
       "4              14 Derelict Vehicles       11434.0  40.679438 -73.771198   \n",
       "\n",
       "   unique_key  \n",
       "0    37454596  \n",
       "1    37454599  \n",
       "2    37454610  \n",
       "3    37454614  \n",
       "4    37454620  "
      ]
     },
     "execution_count": 10,
     "metadata": {},
     "output_type": "execute_result"
    }
   ],
   "source": [
    "complaints.head(5)"
   ]
  },
  {
   "cell_type": "markdown",
   "metadata": {},
   "source": [
    "### 2010 Census Population by ZIP Code"
   ]
  },
  {
   "cell_type": "code",
   "execution_count": 17,
   "metadata": {},
   "outputs": [],
   "source": [
    "population_by_zip = get_population_by_zip(POPULATION_DATASET_URL)\n",
    "population_by_zip.columns = 'zip_code population'.split(' ')"
   ]
  },
  {
   "cell_type": "markdown",
   "metadata": {},
   "source": [
    "### NYC ZIP Codes\n",
    "\n",
    "There are some non-NYC ZIP codes in the dataset, so we'd like to safely filter those out."
   ]
  },
  {
   "cell_type": "code",
   "execution_count": 13,
   "metadata": {},
   "outputs": [],
   "source": [
    "html = scrape_nyc_zips(NYC_ZIPCODES_DATASET_URL)  "
   ]
  },
  {
   "cell_type": "code",
   "execution_count": 14,
   "metadata": {},
   "outputs": [],
   "source": [
    "html = scrape_nyc_zips(NYC_ZIPCODES_DATASET_URL)\n",
    "nyc_zips = tidy_nyc_zips(html)"
   ]
  },
  {
   "cell_type": "code",
   "execution_count": 15,
   "metadata": {},
   "outputs": [
    {
     "data": {
      "text/html": [
       "<div>\n",
       "<style scoped>\n",
       "    .dataframe tbody tr th:only-of-type {\n",
       "        vertical-align: middle;\n",
       "    }\n",
       "\n",
       "    .dataframe tbody tr th {\n",
       "        vertical-align: top;\n",
       "    }\n",
       "\n",
       "    .dataframe thead th {\n",
       "        text-align: right;\n",
       "    }\n",
       "</style>\n",
       "<table border=\"1\" class=\"dataframe\">\n",
       "  <thead>\n",
       "    <tr style=\"text-align: right;\">\n",
       "      <th></th>\n",
       "      <th>borough</th>\n",
       "      <th>zip_code</th>\n",
       "    </tr>\n",
       "  </thead>\n",
       "  <tbody>\n",
       "    <tr>\n",
       "      <th>74</th>\n",
       "      <td>Manhattan</td>\n",
       "      <td>10035</td>\n",
       "    </tr>\n",
       "    <tr>\n",
       "      <th>14</th>\n",
       "      <td>Bronx</td>\n",
       "      <td>10471</td>\n",
       "    </tr>\n",
       "    <tr>\n",
       "      <th>75</th>\n",
       "      <td>Manhattan</td>\n",
       "      <td>10010</td>\n",
       "    </tr>\n",
       "    <tr>\n",
       "      <th>83</th>\n",
       "      <td>Manhattan</td>\n",
       "      <td>10005</td>\n",
       "    </tr>\n",
       "    <tr>\n",
       "      <th>66</th>\n",
       "      <td>Manhattan</td>\n",
       "      <td>10039</td>\n",
       "    </tr>\n",
       "    <tr>\n",
       "      <th>115</th>\n",
       "      <td>Queens</td>\n",
       "      <td>11360</td>\n",
       "    </tr>\n",
       "    <tr>\n",
       "      <th>142</th>\n",
       "      <td>Queens</td>\n",
       "      <td>11004</td>\n",
       "    </tr>\n",
       "    <tr>\n",
       "      <th>124</th>\n",
       "      <td>Queens</td>\n",
       "      <td>11435</td>\n",
       "    </tr>\n",
       "    <tr>\n",
       "      <th>151</th>\n",
       "      <td>Queens</td>\n",
       "      <td>11414</td>\n",
       "    </tr>\n",
       "    <tr>\n",
       "      <th>18</th>\n",
       "      <td>Bronx</td>\n",
       "      <td>10475</td>\n",
       "    </tr>\n",
       "  </tbody>\n",
       "</table>\n",
       "</div>"
      ],
      "text/plain": [
       "       borough  zip_code\n",
       "74   Manhattan     10035\n",
       "14       Bronx     10471\n",
       "75   Manhattan     10010\n",
       "83   Manhattan     10005\n",
       "66   Manhattan     10039\n",
       "115     Queens     11360\n",
       "142     Queens     11004\n",
       "124     Queens     11435\n",
       "151     Queens     11414\n",
       "18       Bronx     10475"
      ]
     },
     "execution_count": 15,
     "metadata": {},
     "output_type": "execute_result"
    }
   ],
   "source": [
    "nyc_zips.sample(10)"
   ]
  },
  {
   "cell_type": "code",
   "execution_count": 18,
   "metadata": {},
   "outputs": [],
   "source": [
    "population_by_zip_nyc = nyc_zips.merge(\n",
    "    population_by_zip,\n",
    "    on='zip_code',\n",
    "    how='inner'\n",
    ")"
   ]
  },
  {
   "cell_type": "code",
   "execution_count": 23,
   "metadata": {},
   "outputs": [
    {
     "data": {
      "text/html": [
       "<div>\n",
       "<style scoped>\n",
       "    .dataframe tbody tr th:only-of-type {\n",
       "        vertical-align: middle;\n",
       "    }\n",
       "\n",
       "    .dataframe tbody tr th {\n",
       "        vertical-align: top;\n",
       "    }\n",
       "\n",
       "    .dataframe thead th {\n",
       "        text-align: right;\n",
       "    }\n",
       "</style>\n",
       "<table border=\"1\" class=\"dataframe\">\n",
       "  <thead>\n",
       "    <tr style=\"text-align: right;\">\n",
       "      <th></th>\n",
       "      <th>borough</th>\n",
       "      <th>zip_code</th>\n",
       "      <th>population</th>\n",
       "    </tr>\n",
       "  </thead>\n",
       "  <tbody>\n",
       "    <tr>\n",
       "      <th>165</th>\n",
       "      <td>Staten Island</td>\n",
       "      <td>10302</td>\n",
       "      <td>19088</td>\n",
       "    </tr>\n",
       "    <tr>\n",
       "      <th>94</th>\n",
       "      <td>Manhattan</td>\n",
       "      <td>10065</td>\n",
       "      <td>32270</td>\n",
       "    </tr>\n",
       "    <tr>\n",
       "      <th>33</th>\n",
       "      <td>Brooklyn</td>\n",
       "      <td>11204</td>\n",
       "      <td>78134</td>\n",
       "    </tr>\n",
       "    <tr>\n",
       "      <th>146</th>\n",
       "      <td>Queens</td>\n",
       "      <td>11426</td>\n",
       "      <td>17590</td>\n",
       "    </tr>\n",
       "    <tr>\n",
       "      <th>148</th>\n",
       "      <td>Queens</td>\n",
       "      <td>11428</td>\n",
       "      <td>19168</td>\n",
       "    </tr>\n",
       "    <tr>\n",
       "      <th>132</th>\n",
       "      <td>Queens</td>\n",
       "      <td>11374</td>\n",
       "      <td>43600</td>\n",
       "    </tr>\n",
       "    <tr>\n",
       "      <th>101</th>\n",
       "      <td>Manhattan</td>\n",
       "      <td>10032</td>\n",
       "      <td>57331</td>\n",
       "    </tr>\n",
       "    <tr>\n",
       "      <th>31</th>\n",
       "      <td>Brooklyn</td>\n",
       "      <td>11214</td>\n",
       "      <td>88630</td>\n",
       "    </tr>\n",
       "    <tr>\n",
       "      <th>77</th>\n",
       "      <td>Manhattan</td>\n",
       "      <td>10017</td>\n",
       "      <td>16575</td>\n",
       "    </tr>\n",
       "    <tr>\n",
       "      <th>104</th>\n",
       "      <td>Manhattan</td>\n",
       "      <td>10040</td>\n",
       "      <td>41905</td>\n",
       "    </tr>\n",
       "  </tbody>\n",
       "</table>\n",
       "</div>"
      ],
      "text/plain": [
       "           borough  zip_code  population\n",
       "165  Staten Island     10302       19088\n",
       "94       Manhattan     10065       32270\n",
       "33        Brooklyn     11204       78134\n",
       "146         Queens     11426       17590\n",
       "148         Queens     11428       19168\n",
       "132         Queens     11374       43600\n",
       "101      Manhattan     10032       57331\n",
       "31        Brooklyn     11214       88630\n",
       "77       Manhattan     10017       16575\n",
       "104      Manhattan     10040       41905"
      ]
     },
     "execution_count": 23,
     "metadata": {},
     "output_type": "execute_result"
    }
   ],
   "source": [
    "population_by_zip_nyc.sample(10)"
   ]
  },
  {
   "cell_type": "code",
   "execution_count": 19,
   "metadata": {},
   "outputs": [
    {
     "data": {
      "text/html": [
       "<div>\n",
       "<style scoped>\n",
       "    .dataframe tbody tr th:only-of-type {\n",
       "        vertical-align: middle;\n",
       "    }\n",
       "\n",
       "    .dataframe tbody tr th {\n",
       "        vertical-align: top;\n",
       "    }\n",
       "\n",
       "    .dataframe thead th {\n",
       "        text-align: right;\n",
       "    }\n",
       "</style>\n",
       "<table border=\"1\" class=\"dataframe\">\n",
       "  <thead>\n",
       "    <tr style=\"text-align: right;\">\n",
       "      <th></th>\n",
       "      <th>borough</th>\n",
       "      <th>population</th>\n",
       "    </tr>\n",
       "  </thead>\n",
       "  <tbody>\n",
       "    <tr>\n",
       "      <th>0</th>\n",
       "      <td>Bronx</td>\n",
       "      <td>1382480</td>\n",
       "    </tr>\n",
       "    <tr>\n",
       "      <th>1</th>\n",
       "      <td>Brooklyn</td>\n",
       "      <td>2504700</td>\n",
       "    </tr>\n",
       "    <tr>\n",
       "      <th>2</th>\n",
       "      <td>Manhattan</td>\n",
       "      <td>1565608</td>\n",
       "    </tr>\n",
       "    <tr>\n",
       "      <th>3</th>\n",
       "      <td>Queens</td>\n",
       "      <td>2231553</td>\n",
       "    </tr>\n",
       "    <tr>\n",
       "      <th>4</th>\n",
       "      <td>Staten Island</td>\n",
       "      <td>468730</td>\n",
       "    </tr>\n",
       "  </tbody>\n",
       "</table>\n",
       "</div>"
      ],
      "text/plain": [
       "         borough  population\n",
       "0          Bronx     1382480\n",
       "1       Brooklyn     2504700\n",
       "2      Manhattan     1565608\n",
       "3         Queens     2231553\n",
       "4  Staten Island      468730"
      ]
     },
     "execution_count": 19,
     "metadata": {},
     "output_type": "execute_result"
    }
   ],
   "source": [
    "population_by_borough = (\n",
    "    population_by_zip_nyc.groupby('borough', as_index=False)\n",
    "                          .population\n",
    "                           .sum()\n",
    ")\n",
    "population_by_borough"
   ]
  },
  {
   "cell_type": "markdown",
   "metadata": {},
   "source": [
    "According to Google, NYC had a population of 8.194 million in 2010. The scraped and merged dataset says that the 2010 population is:"
   ]
  },
  {
   "cell_type": "code",
   "execution_count": 20,
   "metadata": {},
   "outputs": [
    {
     "data": {
      "text/plain": [
       "8153071"
      ]
     },
     "execution_count": 20,
     "metadata": {},
     "output_type": "execute_result"
    }
   ],
   "source": [
    "population_by_borough['population'].sum()"
   ]
  },
  {
   "cell_type": "markdown",
   "metadata": {},
   "source": [
    "It isn't exactly the same, but it's close enough for the present purposes to ignore futher investigation."
   ]
  },
  {
   "cell_type": "code",
   "execution_count": 21,
   "metadata": {},
   "outputs": [],
   "source": [
    "population_by_zip_nyc.to_csv('../data/cleaned/population-by-zip-nyc-2010.csv', index=False)"
   ]
  },
  {
   "cell_type": "code",
   "execution_count": 22,
   "metadata": {},
   "outputs": [],
   "source": [
    "complaints = complaints.merge(\n",
    "    population_by_zip_nyc[['borough', 'zip_code', 'population']],\n",
    "    left_on='incident_zip',\n",
    "    right_on='zip_code',\n",
    "    how='inner'\n",
    ")\n",
    "\n",
    "complaints.loc[:, 'borough'] = (\n",
    "    complaints.loc[:, 'borough_x']\n",
    "              .combine_first(complaints['borough_y'])\n",
    ")\n",
    "\n",
    "complaints.drop(['borough_x', 'borough_y'], axis=1, inplace=True)"
   ]
  },
  {
   "cell_type": "code",
   "execution_count": 27,
   "metadata": {},
   "outputs": [],
   "source": [
    "column_order = [\n",
    "    'unique_key', 'created_date', 'borough', 'zip_code', \n",
    "    'latitude', 'longitude', 'complaint_type', 'descriptor'\n",
    "]\n",
    "                \n",
    "complaints[column_order].to_csv(\n",
    "    '../data/cleaned/nyc-311-complaints.csv.gz',\n",
    "    compression='gzip',\n",
    "    index=False\n",
    ")"
   ]
  }
 ],
 "metadata": {
  "kernelspec": {
   "display_name": "Python 3",
   "language": "python",
   "name": "python3"
  },
  "language_info": {
   "codemirror_mode": {
    "name": "ipython",
    "version": 3
   },
   "file_extension": ".py",
   "mimetype": "text/x-python",
   "name": "python",
   "nbconvert_exporter": "python",
   "pygments_lexer": "ipython3",
   "version": "3.6.7"
  }
 },
 "nbformat": 4,
 "nbformat_minor": 2
}
